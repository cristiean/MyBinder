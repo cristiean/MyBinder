{
 "cells": [
  {
   "cell_type": "code",
   "execution_count": 1,
   "metadata": {},
   "outputs": [],
   "source": [
    "import pandas as pd\n",
    "import numpy as np   \n",
    "import matplotlib.pyplot as plt"
   ]
  },
  {
   "cell_type": "code",
   "execution_count": 2,
   "metadata": {},
   "outputs": [],
   "source": [
    "def mm_cross_simple(df,col_price,mm_short,mm_long):\n",
    "    mm_short_name = str(mm_short) + 'MA'\n",
    "    mm_long_name = str(mm_long) + 'MA'\n",
    "    signal_mm = mm_short_name + mm_long_name\n",
    "    df[mm_short_name] = df[col_price].rolling(window=mm_short).mean()\n",
    "    df[mm_long_name] = df[col_price].rolling(window=mm_long).mean()\n",
    "    df[signal_mm] = np.where(df[mm_short_name] > df[mm_long_name], 1,-1)\n",
    "    return df"
   ]
  },
  {
   "cell_type": "code",
   "execution_count": null,
   "metadata": {},
   "outputs": [],
   "source": [
    "def "
   ]
  },
  {
   "cell_type": "code",
   "execution_count": 3,
   "metadata": {},
   "outputs": [],
   "source": [
    "wd_input = '/Users/alexandrucristiean/Desktop/Pascal_C/'\n",
    "df = pd.read_csv('{}/sample_data.csv'.format(wd_input),delimiter = ',')   #price data"
   ]
  },
  {
   "cell_type": "code",
   "execution_count": 4,
   "metadata": {},
   "outputs": [],
   "source": [
    "def return_cum_strat_last_el(df, mm_short_arg, mm_long_arg):\n",
    "    mm_short = mm_short_arg\n",
    "    mm_long = mm_long_arg\n",
    "    \n",
    "    #col title in the df\n",
    "    signal_ma = str(mm_short) + 'MA' + str(mm_long) + 'MA'\n",
    "    tc = .002      #transaction costs 0.05%\n",
    "    \n",
    "    df['price'] = df['price'].astype(float)\n",
    "    df['date'] = df['time']/1000                      #binance time is in milliseconds-> transform in seconds\n",
    "    df['date'] = pd.to_datetime(df['date'], unit='s') #format binance date in readable date \n",
    "\n",
    "    #signal calcul\n",
    "    df = mm_cross_simple(df,'price',mm_short,mm_long) #add in df above: short_ma, long_ma, signal_mm\n",
    "\n",
    "    df['signal'] = df[signal_ma]                                               #create df signal: sell if -1 and buy if +1\n",
    "    df['signal_chg'] = np.where(df['signal'] != df['signal'].shift(1), 1,0)    #count signal change, then number of trades\n",
    "    df['tc'] = df['signal_chg'] * tc                                           #calc transactions cost\n",
    "    df['tc'] = df['tc'].cumsum()\n",
    "    \n",
    "    #return calculations\n",
    "    df['return'] = (df['price'] / df['price'].shift(1))-1                      #calc returns per minute for the series\n",
    "    df['cum_return'] = (1 + df['return']).cumprod() - 1                        #calc cumulated returns for the series\n",
    "    df['strat_ret'] = df['return'] * df ['signal']                             #calc strategy returns per minute for the series\n",
    "    df['cum_strat_ret'] = (1 + df['strat_ret']).cumprod() - 1                  #calc strategy cumulated returns\n",
    "    df['cum_strat_ret_tc'] = df['cum_strat_ret'] - df['tc']                    #remove transactions costs\n",
    "\n",
    "    df.plot(x = 'date', y='cum_strat_ret_tc')                                  #graph the strategy returns \n",
    "    \n",
    "    return df['cum_strat_ret_tc'].iloc[-1]                                        # last element of Series df[..]"
   ]
  },
  {
   "cell_type": "code",
   "execution_count": 12,
   "metadata": {},
   "outputs": [
    {
     "data": {
      "text/plain": [
       "32.59806077314568"
      ]
     },
     "execution_count": 12,
     "metadata": {},
     "output_type": "execute_result"
    },
    {
     "data": {
      "image/png": "[encoded data removed]",
      "text/plain": [
       "<Figure size 432x288 with 1 Axes>"
      ]
     },
     "metadata": {},
     "output_type": "display_data"
    }
   ],
   "source": [
    "return_cum_strat_last_el(df, 2, 5)\n"
   ]
  },
  {
   "cell_type": "code",
   "execution_count": null,
   "metadata": {
    "scrolled": true
   },
   "outputs": [],
   "source": [
    "a_dict = {}\n",
    "short_values = []\n",
    "long_values = []\n",
    "cum_strat_values = []\n",
    "\n",
    "for short in range(2,101):\n",
    "    for long in range(5,201):\n",
    "        if short < long and long-short < 7:\n",
    "            last_cum_strat_value = return_cum_strat_last_el(df, short, long)\n",
    "            \n",
    "            short_values.append(short)\n",
    "            long_values.append(long)\n",
    "            cum_strat_values.append(last_cum_strat_value)\n",
    "            \n",
    "            a_dict[last_cum_strat_value] = (short, long)\n",
    "            \n",
    "            print(\"short:{}, long:{}, last_el_df_cum_strat:{}\".format(short, long, last_cum_strat_value))"
   ]
  },
  {
   "cell_type": "code",
   "execution_count": null,
   "metadata": {},
   "outputs": [],
   "source": [
    "print(\"The highest cum_strat_value is {}, with mm_short={} and mm_long={}\".format(max(a_dict),\n",
    "                                                                                 a_dict[max(a_dict)][0],\n",
    "                                                                                 a_dict[max(a_dict)][1]))"
   ]
  },
  {
   "cell_type": "code",
   "execution_count": null,
   "metadata": {},
   "outputs": [],
   "source": []
  }
 ],
 "metadata": {
  "kernelspec": {
   "display_name": "Python 3",
   "language": "python",
   "name": "python3"
  },
  "language_info": {
   "codemirror_mode": {
    "name": "ipython",
    "version": 3
   },
   "file_extension": ".py",
   "mimetype": "text/x-python",
   "name": "python",
   "nbconvert_exporter": "python",
   "pygments_lexer": "ipython3",
   "version": "3.6.5"
  }
 },
 "nbformat": 4,
 "nbformat_minor": 2
}
