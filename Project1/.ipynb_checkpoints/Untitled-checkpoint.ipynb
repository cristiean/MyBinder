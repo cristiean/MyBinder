{
 "cells": [
  {
   "cell_type": "code",
   "execution_count": 2,
   "metadata": {},
   "outputs": [],
   "source": [
    "import pandas as pd\n",
    "import numpy as np   \n",
    "import matplotlib.pyplot as plt"
   ]
  },
  {
   "cell_type": "code",
   "execution_count": 3,
   "metadata": {},
   "outputs": [],
   "source": [
    "def mm_cross_simple(df,col_price,mm_short,mm_long):\n",
    "    mm_short_name = str(mm_short) + 'MA'\n",
    "    mm_long_name = str(mm_long) + 'MA'\n",
    "    signal_mm = mm_short_name + mm_long_name\n",
    "    df[mm_short_name] = df[col_price].rolling(window=mm_short).mean()\n",
    "    print(\"df[mm_short_name]: \" + df[mm_short_name])\n",
    "    df[mm_long_name] = df[col_price].rolling(window=mm_long).mean()\n",
    "    df[signal_mm] = np.where(df[mm_short_name] > df[mm_long_name], 1,-1)\n",
    "    return df"
   ]
  },
  {
   "cell_type": "code",
   "execution_count": 4,
   "metadata": {},
   "outputs": [],
   "source": [
    "wd_input = '/Users/alexandrucristiean/Desktop/Pascal_C/'\n",
    "df = pd.read_csv('{}/sample_data.csv'.format(wd_input),delimiter = ',')   #price data\n",
    "\n",
    "#for variables values: float\n",
    "mm_short = 4\n",
    "mm_long = 25\n",
    "#col title in the df\n",
    "signal_ma = str(mm_short) + 'MA' + str(mm_long) + 'MA'\n",
    "tc = 5e-4                #transaction costs 0.05%"
   ]
  },
  {
   "cell_type": "code",
   "execution_count": 5,
   "metadata": {},
   "outputs": [],
   "source": [
    "df['price'] = df['price'].astype(float)\n",
    "df['date'] = df['time']/1000                      #binance time is in milliseconds-> transform in seconds\n",
    "df['date'] = pd.to_datetime(df['date'], unit='s') #format binance date in readable date "
   ]
  },
  {
   "cell_type": "code",
   "execution_count": 6,
   "metadata": {},
   "outputs": [
    {
     "data": {
      "text/plain": [
       "<matplotlib.axes._subplots.AxesSubplot at 0x109c656a0>"
      ]
     },
     "execution_count": 6,
     "metadata": {},
     "output_type": "execute_result"
    },
    {
     "data": {
      "image/png": "[encoded data removed]",
      "text/plain": [
       "<Figure size 432x288 with 1 Axes>"
      ]
     },
     "metadata": {},
     "output_type": "display_data"
    }
   ],
   "source": [
    "#signal calcul\n",
    "df = mm_cross_simple(df,'price',mm_short,mm_long)   #add in df above: short_ma, long_ma, signal_mm\n",
    "\n",
    "df['signal'] = df[signal_ma]                                               #create df signal: sell if -1 and buy if +1\n",
    "df['signal_chg'] = np.where(df['signal'] != df['signal'].shift(1), 1,0)    #count signal change, then number of trades\n",
    "df['tc'] = df['signal_chg'] * tc                                           #calc transactions cost\n",
    "df['tc'] = df['tc'].cumsum()\n",
    "#return calculations\n",
    "df['return'] = (df['price'] / df['price'].shift(1))-1                      #calc returns per minute for the series\n",
    "df['cum_return'] = (1 + df['return']).cumprod() - 1                        #calc cumulated returns for the series\n",
    "df['strat_ret'] = df['return'] * df ['signal']                             #calc strategy returns per minute for the series\n",
    "df['cum_strat_ret'] = (1 + df['strat_ret']).cumprod() - 1                  #calc strategy cumulated returns\n",
    "df['cum_strat_ret_tc'] = df['cum_strat_ret'] - df['tc']                    #remove transactions costs\n",
    "\n",
    "df.plot(x = 'date', y='cum_strat_ret_tc')                                  #graph the strategy returns "
   ]
  },
  {
   "cell_type": "code",
   "execution_count": 7,
   "metadata": {},
   "outputs": [
    {
     "name": "stdout",
     "output_type": "stream",
     "text": [
      "1.4865307916084882\n",
      "<class 'pandas.core.series.Series'>\n"
     ]
    }
   ],
   "source": [
    "print(df['cum_strat_ret'][df['cum_strat_ret'].size-1])                     # last element of Series df[..]\n",
    "print(type(df['cum_strat_ret']))                                           # last element of Series df[..]"
   ]
  },
  {
   "cell_type": "code",
   "execution_count": null,
   "metadata": {},
   "outputs": [],
   "source": []
  }
 ],
 "metadata": {
  "kernelspec": {
   "display_name": "Python 3",
   "language": "python",
   "name": "python3"
  },
  "language_info": {
   "codemirror_mode": {
    "name": "ipython",
    "version": 3
   },
   "file_extension": ".py",
   "mimetype": "text/x-python",
   "name": "python",
   "nbconvert_exporter": "python",
   "pygments_lexer": "ipython3",
   "version": "3.6.5"
  }
 },
 "nbformat": 4,
 "nbformat_minor": 2
}
