{
 "cells": [
  {
   "cell_type": "code",
   "execution_count": 1,
   "metadata": {},
   "outputs": [],
   "source": [
    "import csv\n",
    "import os\n",
    "import pandas as pd\n",
    "import numpy as np\n",
    "\n",
    "import matplotlib.pyplot as plt"
   ]
  },
  {
   "cell_type": "code",
   "execution_count": 2,
   "metadata": {},
   "outputs": [],
   "source": [
    "def mm_cross_simple(df,col_price,mm_short,mm_long):\n",
    "    mm_short_name = str(mm_short) + 'MA'\n",
    "    mm_long_name = str(mm_long) + 'MA'\n",
    "    signal_mm = mm_short_name + mm_long_name\n",
    "    df[mm_short_name] = df[col_price].rolling(window=mm_short).mean()\n",
    "    df[mm_long_name] = df[col_price].rolling(window=mm_long).mean()\n",
    "    df[signal_mm] = np.where(df[mm_short_name] > df[mm_long_name], 1,-1)\n",
    "    return df"
   ]
  },
  {
   "cell_type": "code",
   "execution_count": 3,
   "metadata": {},
   "outputs": [],
   "source": [
    "df = pd.read_csv('sample_data.csv', delimiter = ',')   #price data"
   ]
  },
  {
   "cell_type": "code",
   "execution_count": 4,
   "metadata": {},
   "outputs": [],
   "source": [
    "def return_cum_strat_last_el(df, mm_short, mm_long, mm_short2, mm_long2, plot=False):\n",
    "    \n",
    "    #col title in the df\n",
    "    signal_ma = str(mm_short) + 'MA' + str(mm_long) + 'MA'\n",
    "    signal_ma1 = str(mm_short2) + 'MA' + str(mm_long2) + 'MA'\n",
    "    tc = .002      #transaction cost\n",
    "    \n",
    "    df['price'] = df['price'].astype(float)\n",
    "    df['date'] = df['time']/1000                      #binance time is in milliseconds-> transform in seconds\n",
    "    df['date'] = pd.to_datetime(df['date'], unit='s') #format binance date in readable date \n",
    "\n",
    "    #signal calcul\n",
    "    df = mm_cross_simple(df,'price', mm_short, mm_long)     #add in df above: short_ma, long_ma, signal_mm\n",
    "    df = mm_cross_simple(df,'price', mm_short2, mm_long2)   #add in df above: short_ma, long_ma, signal_mm\n",
    "    \n",
    "    df['signal'] = (df[signal_ma] + df[signal_ma1])/2                          #create df signal: sell if -1 and buy if +1\n",
    "    df['signal_chg'] = np.where(df['signal'] != df['signal'].shift(1), 1,0)    #count signal change, then number of trades\n",
    "    df['tc'] = df['signal_chg'] * tc                                           #calc transactions cost\n",
    "    df['tc'] = df['tc'].cumsum()\n",
    "    \n",
    "    #return calculations\n",
    "    df['return'] = (df['price'] / df['price'].shift(1))-1                      #calc returns per minute for the series\n",
    "    df['cum_return'] = (1 + df['return']).cumprod() - 1                        #calc cumulated returns for the series\n",
    "    df['strat_ret'] = df['return'] * df ['signal']                             #calc strategy returns per minute for the series\n",
    "    df['cum_strat_ret'] = (1 + df['strat_ret']).cumprod() - 1                  #calc strategy cumulated returns\n",
    "    df['cum_strat_ret_tc'] = df['cum_strat_ret'] - df['tc']                    #remove transactions costs\n",
    "\n",
    "    if plot:\n",
    "        df.plot(x = 'date', y='cum_strat_ret_tc')                                  #graph the strategy returns \n",
    "    \n",
    "    return df['cum_strat_ret_tc'].iloc[-1]                     # last element of Series df[..]"
   ]
  },
  {
   "cell_type": "code",
   "execution_count": 5,
   "metadata": {},
   "outputs": [
    {
     "data": {
      "text/plain": [
       "9.34854660703866"
      ]
     },
     "execution_count": 5,
     "metadata": {},
     "output_type": "execute_result"
    },
    {
     "data": {
      "image/png": "[encoded data removed]",
      "text/plain": [
       "<Figure size 432x288 with 1 Axes>"
      ]
     },
     "metadata": {},
     "output_type": "display_data"
    }
   ],
   "source": [
    "return_cum_strat_last_el(df, 2, 3, 3, 4, plot=True)"
   ]
  },
  {
   "cell_type": "code",
   "execution_count": null,
   "metadata": {
    "scrolled": true
   },
   "outputs": [],
   "source": [
    "''' \n",
    "Conditions:\n",
    "short < long, short2 < long2\n",
    "\n",
    "5 <= short <= 100\n",
    "50 <= short2 <= 200\n",
    "10 <= long <= 200\n",
    "100 <= long2 <= 500\n",
    "'''\n",
    "\n",
    "# arguments\n",
    "print_progress=False \n",
    "write_progress=True\n",
    "print_result=False\n",
    "\n",
    "# initialise data structures and helpers\n",
    "a_dict = {}\n",
    "short_values = []\n",
    "long_values = []\n",
    "cum_strat_values = []\n",
    "try:\n",
    "    os.remove('running_progress.csv')\n",
    "except:\n",
    "    pass\n",
    "\n",
    "# run through combinations\n",
    "for short in range(2,101, 5):\n",
    "    for long in range(short+1 ,201, 5):\n",
    "          for short2 in range(long ,201, 10):\n",
    "                for long2 in range(short2+1 ,501, 20):\n",
    "                    last_cum_strat_value = return_cum_strat_last_el(df, short, long, short2, long2)\n",
    "                    a_dict[last_cum_strat_value] = (short, long, short2, long2)\n",
    "\n",
    "                    if print_progress:\n",
    "                        print(\n",
    "                            'last_el_df_cum_strat:{},'.format(last_cum_strat_value) +\n",
    "                            ' short:{},'.format(short) +\n",
    "                            ' long:{},'.format(long) +\n",
    "                            ' short2:{},'.format(short2) +\n",
    "                            ' long2:{},'.format(long2))\n",
    "                    if write_progress:\n",
    "                        with open('pascal_running_progress.csv', 'a') as f:\n",
    "                            writer = csv.writer(f)\n",
    "                            writer.writerow([last_cum_strat_value, short, long, short2, long2])\n",
    "if print_result:\n",
    "    maximum = max(a_dict)\n",
    "    print(\n",
    "        'The highest cum_strat_value is {}, with'.format(maximum) +\n",
    "        ' mm_short={},'.format(a_dict[maximum][0]) +\n",
    "        ' mm_long={},'.format(a_dict[maximum][1]) +\n",
    "        ' mm_short2={},'.format(a_dict[maximum][2]) +\n",
    "        ' mm_long2={}'.format(a_dict[maximum][3]))"
   ]
  },
  {
   "cell_type": "code",
   "execution_count": null,
   "metadata": {},
   "outputs": [],
   "source": [
    "maximum = max(a_dict)\n",
    "print(\n",
    "    'The highest cum_strat_value is {}, with'.format(maximum) +\n",
    "    ' mm_short={},'.format(a_dict[maximum][0]) +\n",
    "    ' mm_long={},'.format(a_dict[maximum][1]) +\n",
    "    ' mm_short2={},'.format(a_dict[maximum][2]) +\n",
    "    ' mm_long2={}'.format(a_dict[maximum][3]))"
   ]
  },
  {
   "cell_type": "code",
   "execution_count": null,
   "metadata": {},
   "outputs": [],
   "source": [
    "pd.DataFrame.from_dict(a_dict).transpose().plot(kind='bar', figsize=(100,20), grid=1)"
   ]
  },
  {
   "cell_type": "code",
   "execution_count": null,
   "metadata": {},
   "outputs": [],
   "source": []
  }
 ],
 "metadata": {
  "kernelspec": {
   "display_name": "Python 3",
   "language": "python",
   "name": "python3"
  },
  "language_info": {
   "codemirror_mode": {
    "name": "ipython",
    "version": 3
   },
   "file_extension": ".py",
   "mimetype": "text/x-python",
   "name": "python",
   "nbconvert_exporter": "python",
   "pygments_lexer": "ipython3",
   "version": "3.6.5"
  },
  "toc": {
   "base_numbering": 1,
   "nav_menu": {},
   "number_sections": true,
   "sideBar": true,
   "skip_h1_title": false,
   "title_cell": "Table of Contents",
   "title_sidebar": "Contents",
   "toc_cell": false,
   "toc_position": {},
   "toc_section_display": true,
   "toc_window_display": false
  }
 },
 "nbformat": 4,
 "nbformat_minor": 2
}
