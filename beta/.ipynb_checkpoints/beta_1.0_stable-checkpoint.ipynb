{
 "cells": [
  {
   "cell_type": "markdown",
   "metadata": {},
   "source": [
    "### Creates similar table to the one in data.xlsm (tab 'rebal'), using the raw_data.csv file.\n",
    "\n",
    "|                        | wght | dur  | yld |\n",
    "|------------------------|------|------|-----|\n",
    "| Basic Materials        | 3.44 | 4.80 |     |\n",
    "| Communications         |      |      |     |\n",
    "| Consumer, Cyclical     |      |      |     |\n",
    "| Consumer, Non-cyclical |      |      |     |\n",
    "| Diversified            |      |      |     |\n",
    "| Energy                 |      |      |     |\n",
    "| Financial              |      |      |     |\n",
    "| Industry               |      |      |     |\n",
    "| Technology             |      |      |     |\n",
    "| Utilities              |      |      | 1.01|\n",
    "\n"
   ]
  },
  {
   "cell_type": "code",
   "execution_count": 2,
   "metadata": {},
   "outputs": [],
   "source": [
    "import pandas as pd"
   ]
  },
  {
   "cell_type": "code",
   "execution_count": 5,
   "metadata": {},
   "outputs": [],
   "source": [
    "raw_data = 'https://raw.githubusercontent.com/cristiean/project_pascal/master/beta/raw_data.csv'\n",
    "df = pd.read_csv(raw_data, encoding = \"ISO-8859-1\")"
   ]
  },
  {
   "cell_type": "code",
   "execution_count": 15,
   "metadata": {},
   "outputs": [],
   "source": [
    "df['dur*wght'] = df['Weight (%)'] * df['DUR_ADJ_MID']\n",
    "df['yld*wght'] = df['Weight (%)'] * df['YLD_YTM_MID']"
   ]
  },
  {
   "cell_type": "code",
   "execution_count": 47,
   "metadata": {},
   "outputs": [],
   "source": [
    "df_g_Industry = df.groupby('INDUSTRY_SECTOR')\n",
    "df_financials = df_g_Industry.get_group('Financial')\n",
    "dur  = df_financials['dur*wght'].sum() / df_financials['Weight (%)'].sum()"
   ]
  },
  {
   "cell_type": "code",
   "execution_count": 44,
   "metadata": {},
   "outputs": [
    {
     "name": "stdout",
     "output_type": "stream",
     "text": [
      "Basic Materials, dur:4.800421036371158, yld:0.884297105309441\n",
      "Communications, dur:5.404888662534634, yld:1.1685228880925111\n",
      "Consumer, Cyclical, dur:4.8032333859272, yld:1.251127254279972\n",
      "Consumer, Non-cyclical, dur:5.558036506387397, yld:0.9150931596059728\n",
      "Diversified, dur:4.492362033225014, yld:0.7251647166152564\n",
      "Energy, dur:5.097095498379063, yld:0.9167066243949002\n",
      "Financial, dur:4.505316592687134, yld:1.228287648252865\n",
      "Industrial, dur:5.303537763979148, yld:0.9462512318514636\n",
      "Technology, dur:5.668762325647265, yld:0.6949053845140787\n",
      "Utilities, dur:5.1733357616964515, yld:1.0070895794160752\n"
     ]
    }
   ],
   "source": [
    "gb = df.groupby('INDUSTRY_SECTOR')\n",
    "\n",
    "for group_name in gb.groups:\n",
    "    df_industry = gb.get_group(group_name)\n",
    "    dur = df_industry['dur*wght'].sum() / df_industry['Weight (%)'].sum()\n",
    "    yld = df_industry['yld*wght'].sum() / df_industry['Weight (%)'].sum()\n",
    "    print('{}, dur:{}, yld:{}'.format(group_name, dur, yld))"
   ]
  },
  {
   "cell_type": "code",
   "execution_count": null,
   "metadata": {},
   "outputs": [],
   "source": []
  }
 ],
 "metadata": {
  "kernelspec": {
   "display_name": "Python 3",
   "language": "python",
   "name": "python3"
  },
  "language_info": {
   "codemirror_mode": {
    "name": "ipython",
    "version": 3
   },
   "file_extension": ".py",
   "mimetype": "text/x-python",
   "name": "python",
   "nbconvert_exporter": "python",
   "pygments_lexer": "ipython3",
   "version": "3.6.5"
  }
 },
 "nbformat": 4,
 "nbformat_minor": 2
}
