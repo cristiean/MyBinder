{
 "cells": [
  {
   "cell_type": "markdown",
   "metadata": {},
   "source": [
    "### Creates similar table to the one in data.xlsm (tab 'rebal') using the raw_data.csv file."
   ]
  },
  {
   "cell_type": "code",
   "execution_count": 1,
   "metadata": {},
   "outputs": [],
   "source": [
    "import pandas as pd"
   ]
  },
  {
   "cell_type": "code",
   "execution_count": 2,
   "metadata": {},
   "outputs": [],
   "source": [
    "raw_data = 'https://raw.githubusercontent.com/cristiean/project_pascal/master/beta/raw_data.csv'\n",
    "df = pd.read_csv(raw_data, encoding = \"ISO-8859-1\")"
   ]
  },
  {
   "cell_type": "code",
   "execution_count": 3,
   "metadata": {},
   "outputs": [],
   "source": [
    "df['dur*wght'] = df['Weight (%)'] * df['DUR_ADJ_MID']\n",
    "df['yld*wght'] = df['Weight (%)'] * df['YLD_YTM_MID']"
   ]
  },
  {
   "cell_type": "code",
   "execution_count": 4,
   "metadata": {},
   "outputs": [
    {
     "data": {
      "text/html": [
       "<div>\n",
       "<style scoped>\n",
       "    .dataframe tbody tr th:only-of-type {\n",
       "        vertical-align: middle;\n",
       "    }\n",
       "\n",
       "    .dataframe tbody tr th {\n",
       "        vertical-align: top;\n",
       "    }\n",
       "\n",
       "    .dataframe thead th {\n",
       "        text-align: right;\n",
       "    }\n",
       "</style>\n",
       "<table border=\"1\" class=\"dataframe\">\n",
       "  <thead>\n",
       "    <tr style=\"text-align: right;\">\n",
       "      <th></th>\n",
       "      <th>dur</th>\n",
       "      <th>wght</th>\n",
       "      <th>yld</th>\n",
       "    </tr>\n",
       "  </thead>\n",
       "  <tbody>\n",
       "    <tr>\n",
       "      <th>Basic Materials</th>\n",
       "      <td>4.800421</td>\n",
       "      <td>3.439427</td>\n",
       "      <td>0.884297</td>\n",
       "    </tr>\n",
       "    <tr>\n",
       "      <th>Communications</th>\n",
       "      <td>5.404889</td>\n",
       "      <td>9.010042</td>\n",
       "      <td>1.168523</td>\n",
       "    </tr>\n",
       "    <tr>\n",
       "      <th>Consumer, Cyclical</th>\n",
       "      <td>4.803233</td>\n",
       "      <td>9.081420</td>\n",
       "      <td>1.251127</td>\n",
       "    </tr>\n",
       "    <tr>\n",
       "      <th>Consumer, Non-cyclical</th>\n",
       "      <td>5.558037</td>\n",
       "      <td>15.748430</td>\n",
       "      <td>0.915093</td>\n",
       "    </tr>\n",
       "    <tr>\n",
       "      <th>Diversified</th>\n",
       "      <td>4.492362</td>\n",
       "      <td>0.305149</td>\n",
       "      <td>0.725165</td>\n",
       "    </tr>\n",
       "    <tr>\n",
       "      <th>Energy</th>\n",
       "      <td>5.097095</td>\n",
       "      <td>4.431088</td>\n",
       "      <td>0.916707</td>\n",
       "    </tr>\n",
       "    <tr>\n",
       "      <th>Financial</th>\n",
       "      <td>4.505317</td>\n",
       "      <td>41.661136</td>\n",
       "      <td>1.228288</td>\n",
       "    </tr>\n",
       "    <tr>\n",
       "      <th>Industrial</th>\n",
       "      <td>5.303538</td>\n",
       "      <td>6.474976</td>\n",
       "      <td>0.946251</td>\n",
       "    </tr>\n",
       "    <tr>\n",
       "      <th>Technology</th>\n",
       "      <td>5.668762</td>\n",
       "      <td>2.500217</td>\n",
       "      <td>0.694905</td>\n",
       "    </tr>\n",
       "    <tr>\n",
       "      <th>Utilities</th>\n",
       "      <td>5.173336</td>\n",
       "      <td>7.348114</td>\n",
       "      <td>1.007090</td>\n",
       "    </tr>\n",
       "  </tbody>\n",
       "</table>\n",
       "</div>"
      ],
      "text/plain": [
       "                             dur       wght       yld\n",
       "Basic Materials         4.800421   3.439427  0.884297\n",
       "Communications          5.404889   9.010042  1.168523\n",
       "Consumer, Cyclical      4.803233   9.081420  1.251127\n",
       "Consumer, Non-cyclical  5.558037  15.748430  0.915093\n",
       "Diversified             4.492362   0.305149  0.725165\n",
       "Energy                  5.097095   4.431088  0.916707\n",
       "Financial               4.505317  41.661136  1.228288\n",
       "Industrial              5.303538   6.474976  0.946251\n",
       "Technology              5.668762   2.500217  0.694905\n",
       "Utilities               5.173336   7.348114  1.007090"
      ]
     },
     "execution_count": 4,
     "metadata": {},
     "output_type": "execute_result"
    }
   ],
   "source": [
    "data = dict()\n",
    "\n",
    "gb = df.groupby('INDUSTRY_SECTOR')\n",
    "\n",
    "for group_name in gb.groups:\n",
    "    df_industry = gb.get_group(group_name)\n",
    "    \n",
    "    dur = df_industry['dur*wght'].sum() / df_industry['Weight (%)'].sum()\n",
    "    yld = df_industry['yld*wght'].sum() / df_industry['Weight (%)'].sum()\n",
    "    \n",
    "    data[group_name] = dict() #  initialise data for groups \n",
    "    data[group_name]['wght'] = df_industry['Weight (%)'].sum()\n",
    "    data[group_name]['dur'] = dur\n",
    "    data[group_name]['yld'] = yld\n",
    "    \n",
    "pd.DataFrame(data).transpose()"
   ]
  }
 ],
 "metadata": {
  "kernelspec": {
   "display_name": "Python 3",
   "language": "python",
   "name": "python3"
  },
  "language_info": {
   "codemirror_mode": {
    "name": "ipython",
    "version": 3
   },
   "file_extension": ".py",
   "mimetype": "text/x-python",
   "name": "python",
   "nbconvert_exporter": "python",
   "pygments_lexer": "ipython3",
   "version": "3.6.5"
  }
 },
 "nbformat": 4,
 "nbformat_minor": 2
}
